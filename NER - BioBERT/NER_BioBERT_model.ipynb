{
 "cells": [
  {
   "cell_type": "code",
   "execution_count": null,
   "outputs": [],
   "source": [
    "import transformers\n",
    "\n",
    "print(transformers.__version__)"
   ],
   "metadata": {
    "collapsed": false
   }
  },
  {
   "cell_type": "code",
   "execution_count": null,
   "outputs": [],
   "source": [
    "import pandas as pd\n",
    "\n",
    "def read_conll(filename):\n",
    "    df = pd.read_csv(filename,\n",
    "                     sep=',', header=None, keep_default_na=False,\n",
    "                     names=['sentence_id', 'words', 'pos', \"labels\"],\n",
    "                     quoting=1, skip_blank_lines=False, index_col=False)\n",
    "    return df\n",
    "\n",
    "\n",
    "def read_conll_val(filename):\n",
    "    df = pd.read_csv(filename,\n",
    "                     sep=',', header=None, keep_default_na=False,\n",
    "                     names=['sentence_id', 'words', \"labels\"],\n",
    "                     quoting=1, skip_blank_lines=False, index_col=False)\n",
    "    return df"
   ],
   "metadata": {
    "collapsed": false
   }
  },
  {
   "cell_type": "code",
   "execution_count": null,
   "outputs": [],
   "source": [
    "train_df = read_conll('content/data/train.csv')\n",
    "test_df = read_conll_val('content/data/val.csv')\n",
    "dev_df = read_conll_val('content/data/val.csv')\n",
    "test_df"
   ],
   "metadata": {
    "collapsed": false
   }
  },
  {
   "cell_type": "code",
   "execution_count": null,
   "outputs": [],
   "source": [
    "custom_labels = list(train_df['labels'].unique())\n",
    "custom_labels"
   ],
   "metadata": {
    "collapsed": false
   }
  },
  {
   "cell_type": "code",
   "execution_count": null,
   "outputs": [],
   "source": [
    "train_args = {\n",
    "    'reprocess_input_data': True,\n",
    "    'overwrite_output_dir': True,\n",
    "    'sliding_window': True,\n",
    "    'max_seq_length': 128,\n",
    "    'num_train_epochs': 10,\n",
    "    'train_batch_size': 32,\n",
    "    'no_save': True,\n",
    "    'fp16': True,\n",
    "    'output_dir': '/outputs/',\n",
    "    'best_model_dir': '/outputs/best_model/',\n",
    "    'evaluate_during_training': True,\n",
    "}"
   ],
   "metadata": {
    "collapsed": false
   }
  },
  {
   "cell_type": "code",
   "execution_count": null,
   "outputs": [],
   "source": [
    "train_args"
   ],
   "metadata": {
    "collapsed": false
   }
  },
  {
   "cell_type": "code",
   "execution_count": null,
   "outputs": [],
   "source": [
    "from simpletransformers.ner import NERModel\n",
    "import pandas as pd\n",
    "import logging\n",
    "\n",
    "logging.basicConfig(level=logging.DEBUG)\n",
    "# transformers_logger = logging.getLogger('transformers')\n",
    "# transformers_logger.setLevel(logging.WARNING)\n",
    "\n",
    "# We use the bio BERT pre-trained model.\n",
    "model = NERModel('bert', 'dmis-lab/biobert-v1.1', labels=custom_labels, args=train_args, use_cuda=False)\n",
    "\n",
    "# Train the model\n",
    "# https://simpletransformers.ai/docs/tips-and-tricks/#using-early-stopping\n",
    "model.train_model(train_df, eval_data=dev_df)\n",
    "\n",
    "# Evaluate the model in terms of accuracy score\n",
    "result, model_outputs, preds_list = model.eval_model(test_df)"
   ],
   "metadata": {
    "collapsed": false
   }
  },
  {
   "cell_type": "code",
   "execution_count": null,
   "outputs": [],
   "source": [
    "sample = \"Hello ai , when I wake up in this morning . I had a slight vertigo . After I ate breakfast , I have some shortness of breath and fall .\"\n",
    "\n",
    "samples = [sample]\n",
    "predictions, _ = model.predict(samples)\n",
    "for predict in predictions[0]:\n",
    "    print(predict)"
   ],
   "metadata": {
    "collapsed": false
   }
  },
  {
   "cell_type": "code",
   "execution_count": null,
   "outputs": [],
   "source": [
    "from simpletransformers.ner import NERModel\n",
    "\n",
    "model_best = NERModel('bert', 'outputs/best_model', use_cuda=False)\n",
    "\n",
    "result, model_outputs, preds_list = model_best.eval_model(test_df)\n",
    "result"
   ],
   "metadata": {
    "collapsed": false
   }
  }
 ],
 "metadata": {
  "kernelspec": {
   "display_name": "Python 3",
   "language": "python",
   "name": "python3"
  },
  "language_info": {
   "codemirror_mode": {
    "name": "ipython",
    "version": 2
   },
   "file_extension": ".py",
   "mimetype": "text/x-python",
   "name": "python",
   "nbconvert_exporter": "python",
   "pygments_lexer": "ipython2",
   "version": "2.7.6"
  }
 },
 "nbformat": 4,
 "nbformat_minor": 0
}
